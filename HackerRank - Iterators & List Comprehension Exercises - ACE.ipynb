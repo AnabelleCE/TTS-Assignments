{
 "cells": [
  {
   "cell_type": "markdown",
   "id": "a93096dd",
   "metadata": {},
   "source": [
    "<b> HackerRank: Iterators & List Comprehension Exercises - Anabelle CE"
   ]
  },
  {
   "cell_type": "markdown",
   "id": "853f5e4a",
   "metadata": {},
   "source": [
    "<b>Task<b/>\n",
    "    \n",
    "You are given a two lists A and B. Your task is to compute their cartesian product AXB. \n",
    "\n",
    "<b>Input Format <b/>\n",
    "    \n",
    "The first line contains the space separated elements of list A.\n",
    "The second line contains the space separated elements of list B.\n",
    "Both lists have no duplicate integer elements.\n",
    "    \n",
    "<b> Constraints<b/>\n",
    "    \n",
    "0<A<30\n",
    "0<B<30\n",
    "    \n",
    "<b>Output Format</b>\n",
    "    \n",
    "Output the space separated tuples of the cartesian product."
   ]
  },
  {
   "cell_type": "code",
   "execution_count": 18,
   "id": "e24f3064",
   "metadata": {},
   "outputs": [
    {
     "name": "stdout",
     "output_type": "stream",
     "text": [
      "Space seperated list:1 2 3 4 5\n",
      "Another space seperated list:6 7 8 9 10\n",
      "List A: [1, 2, 3, 4, 5]\n",
      "List B: [6, 7, 8, 9, 10]\n",
      "\u001b[1mCatesian product tuples: \u001b[0m (1, 6) (1, 7) (1, 8) (1, 9) (1, 10) (2, 6) (2, 7) (2, 8) (2, 9) (2, 10) (3, 6) (3, 7) (3, 8) (3, 9) (3, 10) (4, 6) (4, 7) (4, 8) (4, 9) (4, 10) (5, 6) (5, 7) (5, 8) (5, 9) (5, 10)\n"
     ]
    }
   ],
   "source": [
    "from itertools import product\n",
    "#import the Cartesian Product from the itertools library\n",
    "A = input (\"Space seperated list:\")\n",
    "B = input (\"Another space seperated list:\")\n",
    "#ask the user for the apce seperated values of A and B\n",
    "A = list (map(int, A.split()))\n",
    "print (\"List A:\", A)\n",
    "B = list (map(int, B.split()))\n",
    "print(\"List B:\", B)\n",
    "#print the values of A and B in list format, converting to intergers\n",
    "#this will help create tuples of cartesian product\n",
    "print('\\033[1m'+\"Catesian product tuples: \"+'\\033[0m',' '.join(map(str, product(A, B))))\n",
    "#create cartesian product tuples by joining lists with spaces"
   ]
  },
  {
   "cell_type": "markdown",
   "id": "dfa8dbdb",
   "metadata": {},
   "source": [
    "<b>Task\n",
    "\n",
    "You are given a string S.\n",
    "Your task is to print all possible permutations of size k of the string in lexicographic sorted order.\n",
    "\n",
    "<b>Input Format\n",
    "\n",
    "A single line containing the space separated string S and the integer value k.\n",
    "\n",
    "<b>Constraints\n",
    "\n",
    "0<k<=lens(S)\n",
    "The string contains only UPPERCASE characters.\n",
    "\n",
    "<b>Output Format\n",
    "\n",
    "Print the permutations of the string S on separate lines. "
   ]
  },
  {
   "cell_type": "code",
   "execution_count": 21,
   "id": "6fe45927",
   "metadata": {},
   "outputs": [
    {
     "name": "stdout",
     "output_type": "stream",
     "text": [
      "Enter an ALL CAP string w/ a number:SOFA 2\n",
      "AF\n",
      "AO\n",
      "AS\n",
      "FA\n",
      "FO\n",
      "FS\n",
      "OA\n",
      "OF\n",
      "OS\n",
      "SA\n",
      "SF\n",
      "SO\n"
     ]
    }
   ],
   "source": [
    "from itertools import permutations\n",
    "#import permutations from the itertools library\n",
    "S, k = input(\"Enter an ALL CAP string w/ a number:\").split()\n",
    "#ask the user to enter a string in all caps and with a number\n",
    "#the string will be then split\n",
    "Perm =  list(permutations(sorted(S),int(k)))\n",
    "#define a new list that sorts S (non intergers) and converts the number to an interger\n",
    "#because in permutations order matters\n",
    "for k in Perm:\n",
    "    print(''.join(k))\n",
    "#this calls to print the given number k of letters to form the combination"
   ]
  },
  {
   "cell_type": "markdown",
   "id": "71355324",
   "metadata": {},
   "source": [
    "<b>Task\n",
    "\n",
    "You are given a string S.\n",
    "Your task is to print all possible size k replacement combinations of the string in lexicographic sorted order.\n",
    "\n",
    "<b> Input Format\n",
    "\n",
    "A single line containing the string S and integer value k separated by a space.\n",
    "\n",
    "<b> Constraints\n",
    "    \n",
    "0<k<=lens(S)\n",
    "\n",
    "The string contains only UPPERCASE characters.\n",
    "\n",
    "<b>Output Format\n",
    "\n",
    "Print the combinations with their replacements of string S on separate lines."
   ]
  },
  {
   "cell_type": "code",
   "execution_count": 22,
   "id": "679b5a03",
   "metadata": {},
   "outputs": [
    {
     "name": "stdout",
     "output_type": "stream",
     "text": [
      "Enter an ALL CAP string w/ a number:SOFA 2\n",
      "AA\n",
      "AF\n",
      "AO\n",
      "AS\n",
      "FF\n",
      "FO\n",
      "FS\n",
      "OO\n",
      "OS\n",
      "SS\n"
     ]
    }
   ],
   "source": [
    "from itertools import combinations_with_replacement\n",
    "#import combination w/ replacement from the itertools library\n",
    "#this will help make the different arrangements, where order does not matter\n",
    "S,k = input(\"Enter an ALL CAP string w/ a number:\").split()\n",
    "Combo =  list(combinations_with_replacement(sorted(S),int(k)))\n",
    "#still need to sort the string as we are asked for lexicographic sorted order\n",
    "for k in Combo:\n",
    "    print(''.join(k))\n",
    "#because order does not matter, it is possible to have letters repeat"
   ]
  },
  {
   "cell_type": "code",
   "execution_count": null,
   "id": "533ace6f",
   "metadata": {},
   "outputs": [],
   "source": []
  }
 ],
 "metadata": {
  "kernelspec": {
   "display_name": "Python 3 (ipykernel)",
   "language": "python",
   "name": "python3"
  },
  "language_info": {
   "codemirror_mode": {
    "name": "ipython",
    "version": 3
   },
   "file_extension": ".py",
   "mimetype": "text/x-python",
   "name": "python",
   "nbconvert_exporter": "python",
   "pygments_lexer": "ipython3",
   "version": "3.9.13"
  }
 },
 "nbformat": 4,
 "nbformat_minor": 5
}
