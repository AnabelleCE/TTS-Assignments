{
 "cells": [
  {
   "cell_type": "markdown",
   "id": "44ad844e",
   "metadata": {},
   "source": [
    "<b> Data Structures Exercises - Anabelle CE"
   ]
  },
  {
   "cell_type": "markdown",
   "id": "72b16718",
   "metadata": {},
   "source": [
    "<b> Exercise 1\n",
    "\n",
    "In mathematics, the quadratic equation ax2+bx+c=0 can be solved with the formula x=−b±√((b2−4ac)/2a).\n",
    "\n",
    "Write a function solve_quadratic, that returns both solutions of a generic quadratic as a pair (2-tuple) when the coefficients are given as parameters. It should work like this:\n",
    "\n",
    "print(solve_quadratic(1,-3,2))\n",
    "(2.0,1.0)\n",
    "print(solve_quadratic(1,2,1))\n",
    "(-1.0,-1.0)\n",
    "\n",
    "You may want to use the math.sqrt function from the math module in your solution. Test that your function works in the main function!"
   ]
  },
  {
   "cell_type": "code",
   "execution_count": null,
   "id": "507103a6",
   "metadata": {},
   "outputs": [],
   "source": [
    "#not required"
   ]
  },
  {
   "cell_type": "markdown",
   "id": "06135a19",
   "metadata": {},
   "source": [
    "<b>Exercise 2\n",
    "\n",
    "Get a space-separated list of integers from the user, create a tuple of those integers. Then compute and print the result of hash(tuple).\n",
    "\n",
    "Documentation: hash():"
   ]
  },
  {
   "cell_type": "code",
   "execution_count": 17,
   "id": "8dce7ddc",
   "metadata": {},
   "outputs": [
    {
     "name": "stdout",
     "output_type": "stream",
     "text": [
      "Space-seperated list of intergers:2 3 4 5 6 7 8 9\n",
      "\u001b[1mList:\u001b[0m [2, 3, 4, 5, 6, 7, 8, 9]\n",
      "\u001b[1mTuple:\u001b[0m (2, 3, 4, 5, 6, 7, 8, 9)\n",
      "\u001b[1mHash value: \u001b[0m 5594361422946034522\n"
     ]
    }
   ],
   "source": [
    "Inter = input (\"Space-seperated list of intergers:\") \n",
    "#ask for the user to input values as space seperated list\n",
    "UserInter = list (map(int, Inter.split())) \n",
    "print ('\\033[1m'+\"List:\"+'\\033[0m', UserInter)\n",
    "#turn into a list of intergers by splitting the string and using map to transform\n",
    "#print the list\n",
    "MyTuple = tuple(UserInter)\n",
    "print ('\\033[1m'+\"Tuple:\"+'\\033[0m', MyTuple)\n",
    "#convert the list to a tuple (signified by the parentheses instead of bracket)\n",
    "#print the tuple\n",
    "print ('\\033[1m'+\"Hash value: \"+'\\033[0m',hash(MyTuple))\n",
    "#print the hash value of the tuple"
   ]
  },
  {
   "cell_type": "markdown",
   "id": "b3d61fcb",
   "metadata": {},
   "source": [
    "<b> Exercise 3\n",
    "\n",
    "Take the following two lists. Create a third list by picking odd-index elements from the first list and even-index elements from the second.\n",
    "\n",
    "listOne = [3, 6, 9, 12, 15, 18, 21] <br>\n",
    "listTwo = [4, 8, 12, 16, 20, 24, 28]"
   ]
  },
  {
   "cell_type": "code",
   "execution_count": 20,
   "id": "509f512c",
   "metadata": {},
   "outputs": [
    {
     "name": "stdout",
     "output_type": "stream",
     "text": [
      "\u001b[1mOdd-index elements:\u001b[0m [6, 12, 18]\n",
      "\u001b[1mEven-index elements: \u001b[0m [4, 12, 20, 28]\n",
      "\u001b[1mCombined List Values: \u001b[0m [6, 12, 18, 4, 12, 20, 28]\n",
      "\u001b[1mNew List (sorted): \u001b[0m [4, 6, 12, 12, 18, 20, 28]\n"
     ]
    }
   ],
   "source": [
    "listOne = [3, 6, 9, 12, 15, 18, 21]\n",
    "print ('\\033[1m'+ \"Odd-index elements:\" +'\\033[0m', listOne[1::2])\n",
    "#print odd index elements of list one by starting from index \"1\", which is odd, and taking every other index\n",
    "#meaning index 1, 3, 5 will be printed. This method is called slicing.\n",
    "listTwo = [4, 8, 12, 16, 20, 24, 28]\n",
    "print ('\\033[1m'+ \"Even-index elements: \"+'\\033[0m', listTwo[0::2])\n",
    "#print even index element of list two by starting at index \"0\", which is even, and taking every other index\n",
    "#meaning index 0, 2, 4, 6\n",
    "\n",
    "lst1 = listOne[1::2]\n",
    "lst2 = listTwo[0::2]\n",
    "#create new values of the modified lists to create third list\n",
    "print ('\\033[1m'+\"Combined List Values: \"+'\\033[0m', lst1 + lst2)\n",
    "#print the new thrid list by combining these two values\n",
    "\n",
    "listThree = sorted (lst1 + lst2)\n",
    "print ('\\033[1m'+\"New List (sorted): \"+'\\033[0m', listThree)\n",
    "#can additionally organize the newly created list from highest to lowest values by sorting"
   ]
  },
  {
   "cell_type": "markdown",
   "id": "7905e82b",
   "metadata": {},
   "source": [
    "<b> Exercise 4\n",
    "\n",
    "Take the following list. Slice it into three equal chunks and reverse each list.\n",
    "\n",
    "sampleList = [11, 45, 8, 23, 14, 12, 78, 45, 89]"
   ]
  },
  {
   "cell_type": "code",
   "execution_count": 21,
   "id": "557219af",
   "metadata": {},
   "outputs": [
    {
     "name": "stdout",
     "output_type": "stream",
     "text": [
      "Sample length: 9\n",
      "\u001b[1mChunks of Three:\u001b[0m\n",
      "[11, 45, 8]\n",
      "[23, 14, 12]\n",
      "[78, 45, 89]\n",
      "\u001b[1mReversed Chunks of Three:\u001b[0m\n",
      "[8, 45, 11]\n",
      "[12, 14, 23]\n",
      "[89, 45, 78]\n"
     ]
    }
   ],
   "source": [
    "sampleList = [11, 45, 8, 23, 14, 12, 78, 45, 89]\n",
    "length = len(sampleList)\n",
    "print (\"Sample length:\", length)\n",
    "#additional step to determine the legth is the list was much longer\n",
    "start = 0\n",
    "end = 9\n",
    "#define the start and end of the list to help seperate into 3 equal chunks\n",
    "print ('\\033[1m'+\"Chunks of Three:\"+'\\033[0m') \n",
    "for i in range (start, end, 3):\n",
    "    print (sampleList[i:i+3])\n",
    "#for every interterger in the given start and end in the list/range \n",
    "#slice the list after 3 intergers\n",
    "print ('\\033[1m'+\"Reversed Chunks of Three:\"+'\\033[0m')      \n",
    "for i in range (start, end, 3):\n",
    "    print (sampleList[i:i+3][::-1])\n",
    "#to reverse the given chunks of the list, reverse the lists by adding the -1\n",
    "#this starts from the end of each chunk list, changing the printing order"
   ]
  },
  {
   "cell_type": "markdown",
   "id": "6fd73538",
   "metadata": {},
   "source": [
    "<b>Exercise 5\n",
    "\n",
    "Iterate through a given list and check if a given element already exists in a dictionary as a key’s value. If not, delete it from the list.\n",
    "\n",
    "rollNumber = [47, 64, 69, 37, 76, 83, 95, 97] <br>\n",
    "sampleDict ={'Zach':47, 'Emma':69, 'Kelly':76, 'Jason':97}"
   ]
  },
  {
   "cell_type": "code",
   "execution_count": 94,
   "id": "4579c6ff",
   "metadata": {},
   "outputs": [
    {
     "name": "stdout",
     "output_type": "stream",
     "text": [
      "\u001b[1mAjusted list: \u001b[0m [47, 69, 76, 97]\n"
     ]
    }
   ],
   "source": [
    "sampleDict = {'Zach':47, 'Emma':69, 'Kelly':76, 'Jason':97}\n",
    "rollNumber = [47, 64, 69, 37, 76, 83, 95, 97] \n",
    "\n",
    "for i in reversed (rollNumber):\n",
    "     if not i in sampleDict.values():\n",
    "        rollNumber.remove(i)\n",
    "    else:\n",
    "print('\\033[1m'+\"Ajusted list: \"+'\\033[0m', rollNumber)\n",
    "#using a for loop with if/else statement \n",
    "#going through each value in the rollNumber and comparing with Dict. values\n",
    "#however, to avoid the loop jumping over indexes, the action needed to be reversed"
   ]
  },
  {
   "cell_type": "code",
   "execution_count": 150,
   "id": "64eab83e",
   "metadata": {},
   "outputs": [
    {
     "name": "stdout",
     "output_type": "stream",
     "text": [
      "Adjusted list:  [47, 69, 76, 97]\n"
     ]
    }
   ],
   "source": [
    "sampleDict = {'Zach':47, 'Emma':69, 'Kelly':76, 'Jason':97}\n",
    "rollNumber = [47, 64, 69, 37, 76, 83, 95, 97] \n",
    "\n",
    "Adjusted = [item for item in rollNumber if item in sampleDict.values()]\n",
    "print('\\033[1m'+\"Adjusted list: \"+'\\033[0m', Adjusted)\n",
    "#a second way to come up witht he solution is using the list comprehension syntax \n",
    "#a new list can be created from the the list and dict by comparing items in both    "
   ]
  }
 ],
 "metadata": {
  "kernelspec": {
   "display_name": "Python 3 (ipykernel)",
   "language": "python",
   "name": "python3"
  },
  "language_info": {
   "codemirror_mode": {
    "name": "ipython",
    "version": 3
   },
   "file_extension": ".py",
   "mimetype": "text/x-python",
   "name": "python",
   "nbconvert_exporter": "python",
   "pygments_lexer": "ipython3",
   "version": "3.9.13"
  }
 },
 "nbformat": 4,
 "nbformat_minor": 5
}
