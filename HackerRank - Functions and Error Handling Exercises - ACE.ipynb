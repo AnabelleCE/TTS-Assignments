{
 "cells": [
  {
   "cell_type": "markdown",
   "id": "960f4761",
   "metadata": {},
   "source": [
    "<b> HackerRank: Functions and Error Handling Exercises - Anabelle CE"
   ]
  },
  {
   "cell_type": "markdown",
   "id": "550fd447",
   "metadata": {},
   "source": [
    "An extra day is added to the calendar almost every four years as February 29, and the day is called a leap day. It corrects the calendar for the fact that our planet takes approximately 365.25 days to orbit the sun. A leap year contains a leap day.\n",
    "\n",
    "In the Gregorian calendar, three conditions are used to identify leap years:\n",
    "\n",
    "    The year can be evenly divided by 4, is a leap year, unless:\n",
    "        The year can be evenly divided by 100, it is NOT a leap year, unless:\n",
    "            The year is also evenly divisible by 400. Then it is a leap year.\n",
    "\n",
    "This means that in the Gregorian calendar, the years 2000 and 2400 are leap years, while 1800, 1900, 2100, 2200, 2300 and 2500 are NOT leap years. Source\n",
    "\n",
    "<b>Task\n",
    "\n",
    "Given a year, determine whether it is a leap year. If it is a leap year, return the Boolean True, otherwise return False.\n",
    "\n",
    "Note that the code stub provided reads from STDIN and passes arguments to the is_leap function. It is only necessary to complete the is_leap function.\n",
    "\n",
    "<b>Input Format\n",
    "\n",
    "Read year, the year to test.\n",
    "\n",
    "<b>Constraints\n",
    "\n",
    "1900 <= year <= 10^5\n",
    "\n",
    "<b>Output Format\n",
    "\n",
    "The function must return a Boolean value (True/False). Output is handled by the provided code stub."
   ]
  },
  {
   "cell_type": "code",
   "execution_count": 11,
   "id": "2b21d5f3",
   "metadata": {},
   "outputs": [
    {
     "name": "stdout",
     "output_type": "stream",
     "text": [
      "Input a year: 2024\n",
      "\u001b[1mIs it a leap year?\u001b[0m 2024 is a leap year!\n"
     ]
    }
   ],
   "source": [
    "Year = int(input(\"Input a year: \"))\n",
    "#asking the user to input a year\n",
    "def is_leap(year):\n",
    "#defining the leap year function     \n",
    "    if (Year%4 == 0 or Year%400 == 0):\n",
    "        if not Year%100 == 0:\n",
    "#setting the conditions for what classifies\n",
    "#based on the information given\n",
    "            return True\n",
    "#if conditions apply it will return True\n",
    "        else:\n",
    "            return False\n",
    "#if conditions do not apply it will return False\n",
    "if is_leap(Year):\n",
    "    print ( '\\033[1m'+\"Is it a leap year?\"+ '\\033[0m', Year, \"is a leap year!\")\n",
    "else:\n",
    "    print ('\\033[1m'+\"Is it a leap year?\"+ '\\033[0m', Year,  \"is NOT a leap year.\" )\n",
    "#based on wheter the year the user has given provides a true/false return\n",
    "#print a statement saying whether or not it is a leap year"
   ]
  },
  {
   "cell_type": "code",
   "execution_count": 12,
   "id": "74d358fa",
   "metadata": {},
   "outputs": [
    {
     "name": "stdout",
     "output_type": "stream",
     "text": [
      "Input a year: 2021\n",
      "\u001b[1mIs it a leap year?\u001b[0m 2021 is NOT a leap year.\n"
     ]
    }
   ],
   "source": [
    "#Not a leap year output\n",
    "Year = int(input(\"Input a year: \"))\n",
    "def is_leap(year):\n",
    "    if (Year%4 == 0 or Year%400 == 0):\n",
    "        if not Year%100 == 0:\n",
    "            return True\n",
    "        else:\n",
    "            return False\n",
    "if is_leap(Year):\n",
    "    print ('\\033[1m'+\"Is it a leap year?\"+ '\\033[0m', Year, \"is a leap year!\")\n",
    "else:\n",
    "    print ('\\033[1m'+\"Is it a leap year?\"+ '\\033[0m', Year,  \"is NOT a leap year.\" )"
   ]
  },
  {
   "cell_type": "markdown",
   "id": "7c998ae4",
   "metadata": {},
   "source": [
    "<b> Task\n",
    "\n",
    "You are given two values a and b.\n",
    "Perform integer division and print a/b.\n",
    "\n",
    "<b> Input Format\n",
    "\n",
    "The first line contains T, the number of test cases.\n",
    "The next lines each contain T, the space separated values of a and b.\n",
    "\n",
    "<b> Constraints\n",
    "    \n",
    "0<T<10\n",
    "    \n",
    "<b>Output Format\n",
    "\n",
    "Print the value of a/b.\n",
    "In the case of ZeroDivisionError or ValueError, print the error code."
   ]
  },
  {
   "cell_type": "code",
   "execution_count": 4,
   "id": "e4f1bf2e",
   "metadata": {},
   "outputs": [
    {
     "name": "stdout",
     "output_type": "stream",
     "text": [
      "Number of cases: 4\n",
      "Spaced values of a & b: 3 1\n",
      "3\n",
      "Spaced values of a & b: 10 5\n",
      "2\n",
      "Spaced values of a & b: 4 0\n",
      "\u001b[1mError: Cannot divide by zero!\u001b[0m\n",
      "Spaced values of a & b: 8 2\n",
      "4\n"
     ]
    }
   ],
   "source": [
    "#ZeroDivisionError example\n",
    "for i in range (int(input('\\033[1m'+\"Number of cases: \"+'\\033[0m'))):\n",
    "#askign for the number of cases from the user\n",
    "    try:\n",
    "        a,b=map(int, input('\\033[1m'+\"Spaced values of a & b: \"+'\\033[0m').split())\n",
    "#ask for the space seperated values of a and b from the user and split them\n",
    "        Division = a//b\n",
    "        print (Division)\n",
    "#get the value of a divided by b    \n",
    "    except Exception as ZeroDivisionError:\n",
    "        print ('\\033[1m'+\"Error: Cannot divide by zero!\"+'\\033[0m')\n",
    "#when there is a ZeroDivisionError, print the error"
   ]
  },
  {
   "cell_type": "code",
   "execution_count": 5,
   "id": "39f09727",
   "metadata": {},
   "outputs": [
    {
     "name": "stdout",
     "output_type": "stream",
     "text": [
      "Number of cases: 3\n",
      "Spaced values of a & b: 9 1\n",
      "9\n",
      "Spaced values of a & b: 6 3\n",
      "2\n",
      "Spaced values of a & b: 1 !\n",
      "\u001b[1mError: Value entered must be an interger!\u001b[0m\n"
     ]
    }
   ],
   "source": [
    "#ValueError example\n",
    "for i in range (int(input('\\033[1m'+\"Number of cases: \"+'\\033[0m'))):\n",
    "    try:\n",
    "        a,b=map(int, input('\\033[1m'+\"Spaced values of a & b: \"+'\\033[0m').split())\n",
    "        Division = a//b\n",
    "        print (Division)\n",
    "    except Exception as ValueError:\n",
    "        print ('\\033[1m'+\"Error: Value entered must be an interger!\"+'\\033[0m')\n",
    "#same steps as above, but when there is a ValueError, print the error"
   ]
  },
  {
   "cell_type": "code",
   "execution_count": null,
   "id": "255f1140",
   "metadata": {},
   "outputs": [],
   "source": []
  }
 ],
 "metadata": {
  "kernelspec": {
   "display_name": "Python 3 (ipykernel)",
   "language": "python",
   "name": "python3"
  },
  "language_info": {
   "codemirror_mode": {
    "name": "ipython",
    "version": 3
   },
   "file_extension": ".py",
   "mimetype": "text/x-python",
   "name": "python",
   "nbconvert_exporter": "python",
   "pygments_lexer": "ipython3",
   "version": "3.9.13"
  }
 },
 "nbformat": 4,
 "nbformat_minor": 5
}
