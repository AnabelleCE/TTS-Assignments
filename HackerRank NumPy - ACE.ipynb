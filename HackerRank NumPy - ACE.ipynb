{
 "cells": [
  {
   "cell_type": "markdown",
   "id": "3dd344c6",
   "metadata": {},
   "source": [
    "<b> HackerRank: NumPy - Anabelle CE"
   ]
  },
  {
   "cell_type": "markdown",
   "id": "684c1c2f",
   "metadata": {},
   "source": [
    "<b>Task\n",
    "\n",
    "You are given a space separated list of numbers.\n",
    "Your task is to print a reversed NumPy array with the element type float.\n",
    "\n",
    "<b>Input Format\n",
    "\n",
    "A single line of input containing space separated numbers.\n",
    "\n",
    "<b>Output Format\n",
    "\n",
    "Print the reverse NumPy array with type float."
   ]
  },
  {
   "cell_type": "code",
   "execution_count": 10,
   "id": "193d6d04",
   "metadata": {},
   "outputs": [
    {
     "name": "stdout",
     "output_type": "stream",
     "text": [
      "Enter a space seperated list of numbers: 1 2 3 4 -8 -10\n",
      "\u001b[1mReversed NumPy array:\u001b[0m [-10.  -8.   4.   3.   2.   1.]\n"
     ]
    }
   ],
   "source": [
    "import numpy as np\n",
    "\n",
    "def Array(List):\n",
    "#define the array using numpy\n",
    "    Nump = np.array(List, float)\n",
    "    #convert to an ndarray to represent the multidimensional array, and specify the type as a float\n",
    "    Reversed = np.flip(Nump)\n",
    "    #to reverse the order of the array the np.flip option can be used\n",
    "    #an alternative is using [::-1]\n",
    "    return Reversed\n",
    "    \n",
    "List = input(\"Enter a space seperated list of numbers: \").strip().split(' ')\n",
    "#ask the user for the space seperated list of numbers\n",
    "#identifying that the list is split at the space, removing the space at the beginning and end\n",
    "Final = (Array(List))\n",
    "#the fianl value will the the using list after having been defined using numpy\n",
    "print ('\\033[1m'+\"Reversed NumPy array:\"+'\\033[0m',Final)\n",
    "    \n"
   ]
  },
  {
   "cell_type": "markdown",
   "id": "f7a39eb1",
   "metadata": {},
   "source": [
    "<b>Task\n",
    "\n",
    "You are given the coefficients of a polynomial P.\n",
    "Your task is to find the value of P at point x.\n",
    "\n",
    "<b>Input Format\n",
    "\n",
    "The first line contains the space separated value of the coefficients in P.\n",
    "The second line contains the value of x.\n",
    "\n",
    "<b>Output Format\n",
    "\n",
    "Print the desired value."
   ]
  },
  {
   "cell_type": "code",
   "execution_count": 11,
   "id": "342a6918",
   "metadata": {},
   "outputs": [
    {
     "name": "stdout",
     "output_type": "stream",
     "text": [
      "Provide coefficient values for the polynomail: 1.1 2 3\n",
      "Give a point x to find the value of the polynomail: 0\n",
      "\u001b[1mThe polynomial is equal to\u001b[0m 3.0\n"
     ]
    }
   ],
   "source": [
    "import numpy as np\n",
    "\n",
    "Coeff = input(\"Provide coefficient values for the polynomail: \").split()\n",
    "#ask the user for the coefficient values, and split their input\n",
    "Nump = np.array(Coeff, float)\n",
    "#convert to an ndarray to  represent the multidimensional array, and specify the type as a float\n",
    "P = np.polyval(Nump, int(input(\"Give a point x to find the value of the polynomail: \")))\n",
    "#The polyval tool evaluates the polynomial at specific value\n",
    "print('\\033[1m'+\"The polynomial is equal to\"+'\\033[0m',P)\n"
   ]
  }
 ],
 "metadata": {
  "kernelspec": {
   "display_name": "Python 3 (ipykernel)",
   "language": "python",
   "name": "python3"
  },
  "language_info": {
   "codemirror_mode": {
    "name": "ipython",
    "version": 3
   },
   "file_extension": ".py",
   "mimetype": "text/x-python",
   "name": "python",
   "nbconvert_exporter": "python",
   "pygments_lexer": "ipython3",
   "version": "3.9.13"
  }
 },
 "nbformat": 4,
 "nbformat_minor": 5
}
