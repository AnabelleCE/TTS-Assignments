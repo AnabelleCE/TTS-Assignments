{
 "cells": [
  {
   "cell_type": "markdown",
   "id": "2f2bf358",
   "metadata": {},
   "source": [
    "<b> Jupyter Notebook Mod 01: Practice Assignment - Anabelle Capois Espinal </b> "
   ]
  },
  {
   "cell_type": "markdown",
   "id": "703003ce",
   "metadata": {},
   "source": [
    "<b> 1. Accept the user's first and last name and print them in reverse order with a space between them "
   ]
  },
  {
   "cell_type": "code",
   "execution_count": 16,
   "id": "fc0f9ecb",
   "metadata": {},
   "outputs": [
    {
     "name": "stdout",
     "output_type": "stream",
     "text": [
      "Input your First Name: Anabelle\n",
      "Input your Last Name: Capois Espinal\n",
      "Hello Capois Espinal, Anabelle\n"
     ]
    }
   ],
   "source": [
    "fname = input (\"Input your First Name: \") \n",
    "lname = input (\"Input your Last Name: \")\n",
    "print (\"Hello\" + \" \" + lname + \", \" + fname)"
   ]
  },
  {
   "cell_type": "markdown",
   "id": "ca864f30",
   "metadata": {},
   "source": [
    "<b> 2. Accept an integer No input from the user and compute the value of n+nn+nnn. For example if n=4 then n + nn + nnn = 4 + 44 + 444 = 492"
   ]
  },
  {
   "cell_type": "code",
   "execution_count": 2,
   "id": "9c87ec5f",
   "metadata": {},
   "outputs": [
    {
     "name": "stdout",
     "output_type": "stream",
     "text": [
      "Accept an interger:6\n",
      "6\n",
      "6\n",
      "66\n",
      "666\n",
      "738\n"
     ]
    }
   ],
   "source": [
    "x = int(input(\"Accept an interger:\"))\n",
    "print(x)\n",
    "n = (int('%s'% (x)))\n",
    "print(n)\n",
    "nn = (int(\"%s%s\"%(x, x)))\n",
    "print(nn)\n",
    "nnn = (int(\"%s%s%s\"%(x, x, x)))\n",
    "print(nnn)\n",
    "\n",
    "print(n+nn+nnn)"
   ]
  },
  {
   "cell_type": "markdown",
   "id": "49bca612",
   "metadata": {},
   "source": [
    "<b> 3. Ask the user \"What country are you from?\" then print the following statement: \"I have heard that [input] is a beautiful country!\""
   ]
  },
  {
   "cell_type": "code",
   "execution_count": 40,
   "id": "c09f7cc8",
   "metadata": {},
   "outputs": [
    {
     "name": "stdout",
     "output_type": "stream",
     "text": [
      "What country are you from? the Dominican Republic\n",
      "I have heard that the Dominican Republic is a beautiful country!\n"
     ]
    }
   ],
   "source": [
    "country = input (\"What country are you from? \")\n",
    "print(\"I have heard that\" + \" \" + country + \" \" + \"is a beautiful country!\")"
   ]
  },
  {
   "cell_type": "markdown",
   "id": "ea18873d",
   "metadata": {},
   "source": [
    "<b> 4. What is the output of the following Python code\n",
    "\n",
    "x = 10 <br> \n",
    "y = 50 <br>\n",
    "if (x ** 2 > 100 and y < 100):<br>\n",
    "    print(x, y)"
   ]
  },
  {
   "cell_type": "code",
   "execution_count": 73,
   "id": "8e193350",
   "metadata": {},
   "outputs": [],
   "source": [
    "x = 10\n",
    "y = 50\n",
    "if (x**2 > 100 and y < 100):\n",
    "    print (x,y) \n",
    "    \n",
    "#The conditions are not met therefore (x, y) are not printed"
   ]
  },
  {
   "cell_type": "markdown",
   "id": "a5e388f5",
   "metadata": {},
   "source": [
    "<b> 5. What is the output of the following addition (+) operator, and why does this code chunk execute this way?\n",
    "\n",
    "a = [10, 20] <br>\n",
    "b = a <br>\n",
    "b += [30, 40] <br>\n",
    "print(a) <br>\n",
    "print(b) <br>"
   ]
  },
  {
   "cell_type": "code",
   "execution_count": 74,
   "id": "0f19898d",
   "metadata": {},
   "outputs": [
    {
     "name": "stdout",
     "output_type": "stream",
     "text": [
      "[10, 20, 30, 40]\n",
      "[10, 20, 30, 40]\n"
     ]
    }
   ],
   "source": [
    "a = [10, 20]\n",
    "b = a\n",
    "b += [30, 40]\n",
    "print(a)\n",
    "print(b) \n",
    "\n",
    "# The = operator means that b is a, or b= [10,20]\n",
    "# The += operator adds the specified values to the previously used variable, making b = [10, 20, 30, 40]\n",
    "# Since b is a, then a is also b, so a = [10, 20, 30, 40]"
   ]
  },
  {
   "cell_type": "markdown",
   "id": "5e0da501",
   "metadata": {},
   "source": [
    "<b> 6. What is the output of the following code and what arithmetic operators is being used here? print(2%6)"
   ]
  },
  {
   "cell_type": "code",
   "execution_count": 77,
   "id": "9d52ef4f",
   "metadata": {},
   "outputs": [
    {
     "name": "stdout",
     "output_type": "stream",
     "text": [
      "2\n"
     ]
    }
   ],
   "source": [
    "print (2%6)\n",
    "# % is the symbol for the Modulus arithmethic operator \n",
    "# When using this operator the output will be the integer remainder after division of 2 by 6\n",
    "# Becaus 2/6 is less than 1, we can say that 2 goes into 6 zero tims, leaving us with a remainder of 2"
   ]
  },
  {
   "cell_type": "markdown",
   "id": "371ce190",
   "metadata": {},
   "source": [
    "<b> 7. What is the output of the following code and what arithmetic operators are used here? print(2 * 3 ** 3 * 4)"
   ]
  },
  {
   "cell_type": "code",
   "execution_count": 78,
   "id": "6dadf442",
   "metadata": {},
   "outputs": [
    {
     "name": "stdout",
     "output_type": "stream",
     "text": [
      "216\n"
     ]
    }
   ],
   "source": [
    "print(2 * 3 ** 3 * 4)\n",
    "# * is the symbol for the multiplication arithmethic operator\n",
    "# ** is the symbol for the exponentiation arithmethic operator \n",
    "# When using these operators combined the output will be 2x3^3x4 = 2x27x4"
   ]
  },
  {
   "cell_type": "markdown",
   "id": "66649ec6",
   "metadata": {},
   "source": [
    "<b> 8. What is a text editor?"
   ]
  },
  {
   "cell_type": "markdown",
   "id": "7ce06920",
   "metadata": {},
   "source": [
    "A text editor is a computer program for plain text files, for example Notepad on Windows devices. It allows the creation, editing, opening and viewing of the files. In programming it is a useful tool to put together code before running it. "
   ]
  },
  {
   "cell_type": "markdown",
   "id": "1119e105",
   "metadata": {},
   "source": [
    "<b> 9. What is python?"
   ]
  },
  {
   "cell_type": "markdown",
   "id": "aec9ae6d",
   "metadata": {},
   "source": [
    "Python is a widely used programming language.It is general purpose, meaning it can be used to create a wide variety of programs."
   ]
  },
  {
   "cell_type": "markdown",
   "id": "db2464cf",
   "metadata": {},
   "source": [
    "<b> 10. What is jupyter notebook, what type of python environment is it, and what alternatives are there to jupyter notebook?"
   ]
  },
  {
   "cell_type": "markdown",
   "id": "c7e2226d",
   "metadata": {},
   "source": [
    "Jupyter notebook is an open source web application utilizing script format. It allows user to execute code, format text, as well as add graphics and interactive features in a single document. It is a hybrid Python enviroment, with the ability of both an interactive terminal and a self-contained script. Some alternatives to Jupyter Notebook include IPython (for Interactive Python), which comes with Anaconda, RStudio, and Google Colab."
   ]
  }
 ],
 "metadata": {
  "kernelspec": {
   "display_name": "Python 3 (ipykernel)",
   "language": "python",
   "name": "python3"
  },
  "language_info": {
   "codemirror_mode": {
    "name": "ipython",
    "version": 3
   },
   "file_extension": ".py",
   "mimetype": "text/x-python",
   "name": "python",
   "nbconvert_exporter": "python",
   "pygments_lexer": "ipython3",
   "version": "3.9.13"
  }
 },
 "nbformat": 4,
 "nbformat_minor": 5
}
