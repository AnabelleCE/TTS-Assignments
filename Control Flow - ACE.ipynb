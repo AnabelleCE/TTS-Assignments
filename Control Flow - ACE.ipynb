{
 "cells": [
  {
   "cell_type": "markdown",
   "id": "593927a2",
   "metadata": {},
   "source": [
    "<b>Control Flow Exercises - Anabelle CE"
   ]
  },
  {
   "cell_type": "markdown",
   "id": "36bf0699",
   "metadata": {},
   "source": [
    "<b>Exercise 1\n",
    "\n",
    "Guess a number between 1 to 9 given by the user"
   ]
  },
  {
   "cell_type": "code",
   "execution_count": 1,
   "id": "65d39215",
   "metadata": {},
   "outputs": [
    {
     "name": "stdout",
     "output_type": "stream",
     "text": [
      "Guess a number between 1 to 9: 3\n",
      "\u001b[1mtoo low!\u001b[0m\n",
      "Guess a number between 1 to 9: 7\n",
      "\u001b[1mtoo high!\u001b[0m\n",
      "Guess a number between 1 to 9: 5\n",
      "\u001b[1mtoo high!\u001b[0m\n",
      "Guess a number between 1 to 9: 4\n",
      "\u001b[1mCongrats!\u001b[0m\n"
     ]
    }
   ],
   "source": [
    "import random\n",
    "Number = random.randint(1, 9)\n",
    "Guess = 0\n",
    "#import random to generate random numbers\n",
    "#give the range from which to generate\n",
    "#setting the guess value to \"0\" will keep track of the number of guesses\n",
    "while Guess != Number:\n",
    "#while statement for any number between 1 to 9\n",
    "#whenever the number is not equal to a guess of 0\n",
    "    Guess = int(input (\"Guess a number between 1 to 9: \"))\n",
    "    #ask the user to input their own guess\n",
    "    if (Guess > Number):\n",
    "        print ('\\033[1m'+\"too high!\"+'\\033[0m') \n",
    "#if the guess is higher than the randomly generateed interger\n",
    "#print that it is too high to prompt the user guess lower\n",
    "    elif (Guess < Number):\n",
    "        print ('\\033[1m'+\"too low!\"+'\\033[0m')\n",
    "#else if the guess is lower than the randomly generateed interger\n",
    "#print that it is too low to prompt the user guess higher\n",
    "    else:\n",
    "        print ('\\033[1m'+\"Congrats!\"+'\\033[0m')\n",
    "#if the neither of the above apply, than the user has guessed correctly\n",
    "#print a statement to congratulate them"
   ]
  },
  {
   "cell_type": "markdown",
   "id": "3ad488a3",
   "metadata": {},
   "source": [
    "<b>Exercise 2\n",
    "\n",
    "Check the validity of password input by the user.\n",
    "\n",
    "Validation:\n",
    "\n",
    "    At least 1 letter between [a-z] and 1 letter between [A-Z]\n",
    "    At least 1 number between [0-9]\n",
    "    At least 1 character from [$#@]\n",
    "    Minimum length 6 characters\n",
    "    Maximum length 16 characters"
   ]
  },
  {
   "cell_type": "code",
   "execution_count": null,
   "id": "90802846",
   "metadata": {},
   "outputs": [],
   "source": [
    "#not required"
   ]
  },
  {
   "cell_type": "markdown",
   "id": "81bcb742",
   "metadata": {},
   "source": [
    "<b>Exercise 3\n",
    "\n",
    "Get input of the age of 3 people by user and determine oldest and youngest among them"
   ]
  },
  {
   "cell_type": "code",
   "execution_count": 4,
   "id": "7fd2fc3f",
   "metadata": {},
   "outputs": [
    {
     "name": "stdout",
     "output_type": "stream",
     "text": [
      "Enter Age One: 60\n",
      "Enter Age Two: 28\n",
      "Enter Age Three: 40\n",
      "\u001b[1mAge One is the oldest.\u001b[0m\n",
      "\u001b[1mAge Two is the youngest.\u001b[0m\n"
     ]
    }
   ],
   "source": [
    "AgeOne = input(\"Enter Age One: \")\n",
    "AgeTwo = input(\"Enter Age Two: \")\n",
    "AgeThree = input(\"Enter Age Three: \")\n",
    "#asking for user to input three different randon ages\n",
    "\n",
    "if AgeOne > AgeTwo and AgeOne > AgeThree:\n",
    "    print ('\\033[1m'+\"Age One is the oldest.\"+'\\033[0m')\n",
    "#if the first age is greater than the other two\n",
    "#then print that is the oldest\n",
    "elif AgeTwo > AgeOne and AgeTwo > AgeThree:\n",
    "    print ('\\033[1m'+\"Age Two is the oldest.\"+'\\033[0m')\n",
    "#if the second age is greater than the other two\n",
    "#then print that is the oldest\n",
    "else: \n",
    "    print ('\\033[1m'+\"AgeThree is the oldest.\"+'\\033[0m')\n",
    "#if neither of the above conditions are met\n",
    "#than then last age will print the oldest   \n",
    "    \n",
    "if AgeOne < AgeTwo and AgeOne < AgeThree:\n",
    "    print ('\\033[1m'+\"Age One is the youngest.\"+'\\033[0m')\n",
    "#if the first age is less than the other two\n",
    "#then print that is the youngest\n",
    "elif AgeTwo < AgeOne and AgeTwo < AgeThree:\n",
    "    print ('\\033[1m'+\"Age Two is the youngest.\"+'\\033[0m')\n",
    "#if the second age is less than the other two\n",
    "#then print that is the oldest\n",
    "else: \n",
    "    print ('\\033[1m'+\"AgeThree is the youngest.\"+'\\033[0m')\n",
    "#if neither of the above conditions are met\n",
    "#than then last age will print the youngest"
   ]
  },
  {
   "cell_type": "markdown",
   "id": "e6b2d648",
   "metadata": {},
   "source": [
    "<b>Exercise 4\n",
    "\n",
    "A student will not be allowed to sit in exam if his/her attendance is less than 75%.\n",
    "\n",
    "Take following input from user\n",
    "\n",
    "    Number of classes held\n",
    "    Number of classes attended.\n",
    "    And print percentage of class attended\n",
    "\n",
    "Is student is allowed to sit in exam or not?"
   ]
  },
  {
   "cell_type": "code",
   "execution_count": 5,
   "id": "0d7fe199",
   "metadata": {},
   "outputs": [
    {
     "name": "stdout",
     "output_type": "stream",
     "text": [
      "Number of classes held: 20\n",
      "Number of classes attended: 13\n",
      "Attendance percentage:  65.0 %\n",
      "\u001b[1mStudent not allowed to sit in for exam because their attendance is less than 75%.\u001b[0m\n"
     ]
    }
   ],
   "source": [
    "Held = int(input(\"Number of classes held: \"))\n",
    "Attended = int(input(\"Number of classes attended: \"))\n",
    "#have the user input the number of classes held \n",
    "#and the number of classes the student attended, coverted to intergers\n",
    "Attendance = (Attended/Held)*100\n",
    "print (\"Attendance percentage: \", Attendance, \"%\")\n",
    "#calculate the attendance by dividing the classes attended by the total held\n",
    "#multiply by 100 to get percentage value, print wit % symbol\n",
    "if Attendance < 75:\n",
    "    print ('\\033[1m'+\"Student not allowed to sit in for exam because their attendance is less than 75%.\"+'\\033[0m')\n",
    "if Attendance > 75:\n",
    "    print ('\\033[1m'+\"Student is allowed to sit in for exam.\"+'\\033[0m')\n",
    "#set the conditions for what to print based on whether or not the 75% attendance requirement was met"
   ]
  },
  {
   "cell_type": "markdown",
   "id": "98ef2c58",
   "metadata": {},
   "source": [
    "<b>Exercise 5\n",
    "\n",
    "Get an integer N from the user and perform the following actions:\n",
    "\n",
    "    if N is odd, print \"weird\"\n",
    "    if N is even and in the inclusive range of 2 to 5, print \"Not Weird\"\n",
    "    if N is even and in the inclusive range of 6 to 20, print \"Weird\"\n",
    "    if N is even and greater than 20, print \"Not Weird\""
   ]
  },
  {
   "cell_type": "code",
   "execution_count": 8,
   "id": "3c3a2a31",
   "metadata": {},
   "outputs": [
    {
     "name": "stdout",
     "output_type": "stream",
     "text": [
      "Input an interger: 6\n",
      "Condition 1 not met\n",
      "Condition 2 not met\n",
      "Weird = Condition 3 met\n",
      "Condition 4 not met\n"
     ]
    }
   ],
   "source": [
    "N = int(input (\"Input an interger: \"))\n",
    "#ask user to input an interger, ensure it is by usint int\n",
    "Mod = N % 2\n",
    "#determine if the given value is even by using modulus 2\n",
    "#no leftover means it is even, leftover means odd\n",
    "\n",
    "if (Mod > 0): #value is odd\n",
    "    print (\"Weird = Condition 1 met\")\n",
    "else:\n",
    "    print (\"Condition 1 not met\") \n",
    "#chose to do additional printing to ensure code working\n",
    "#for all conditions that needed to be checked\n",
    "    \n",
    "if (Mod == 0) and N in range (2, 7, 3):\n",
    "#value is even, and using start, stop, step method\n",
    "#to make it inclusive add 1 to the start and end of the given range\n",
    "    print (\"Not Weird = Condition 2 met\")\n",
    "else:\n",
    "    print (\"Condition 2 not met\")\n",
    "    \n",
    "if (Mod == 0) and N in range (6, 22, 1):\n",
    "    print (\"Weird = Condition 3 met\")\n",
    "else:\n",
    "    print (\"Condition 3 not met\")\n",
    "    \n",
    "if (Mod == 0) and N > 20:\n",
    "    print (\"Not Weird = Condition 4 met\")\n",
    "else:\n",
    "    print (\"Condition 4 not met\")"
   ]
  },
  {
   "cell_type": "code",
   "execution_count": null,
   "id": "7beb00cf",
   "metadata": {},
   "outputs": [],
   "source": []
  }
 ],
 "metadata": {
  "kernelspec": {
   "display_name": "Python 3 (ipykernel)",
   "language": "python",
   "name": "python3"
  },
  "language_info": {
   "codemirror_mode": {
    "name": "ipython",
    "version": 3
   },
   "file_extension": ".py",
   "mimetype": "text/x-python",
   "name": "python",
   "nbconvert_exporter": "python",
   "pygments_lexer": "ipython3",
   "version": "3.9.13"
  }
 },
 "nbformat": 4,
 "nbformat_minor": 5
}
