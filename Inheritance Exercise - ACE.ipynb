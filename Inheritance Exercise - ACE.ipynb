{
 "cells": [
  {
   "cell_type": "markdown",
   "id": "453a90f8",
   "metadata": {},
   "source": [
    "<b>Inheritance Exercise - Anabelle CE"
   ]
  },
  {
   "cell_type": "markdown",
   "id": "edddc8a1",
   "metadata": {},
   "source": [
    "You are given two classes, Person and Student, where Person is the base class and Student is the derived class. Completed code for Person and a declaration for Student are provided for you in the editor. Observe that Student inherits all the properties of Person.\n",
    "\n",
    "Complete the Student class by writing the following:\n",
    "\n",
    "A Student class constructor, which has 4 parameters:\n",
    "\n",
    "    A string, firstName\n",
    "    A string, lastName\n",
    "    An integer, id \n",
    "    An integer array (or vector) of test scores, scores\n",
    "\n",
    "A char calculate() method that calculates a Student object's average and returns the grade character representative of their calculated average:\n",
    "\n",
    "A | 90-100\n",
    "B | 80-89\n",
    "C | 70-79\n",
    "D | 60-69\n",
    "F | <60"
   ]
  },
  {
   "cell_type": "code",
   "execution_count": 22,
   "id": "45381305",
   "metadata": {},
   "outputs": [
    {
     "name": "stdout",
     "output_type": "stream",
     "text": [
      "Enter first, last name and ID: Athena King 123456\n",
      "Enter grades separated by space: 100 100 65 85 90\n",
      "\u001b[1mFirst Name:\u001b[0m Athena\n",
      "\u001b[1mLast Name:\u001b[0m King\n",
      "\u001b[1mID:\u001b[0m 123456\n",
      "\u001b[1mGrade:\u001b[0m  You got a B.\n"
     ]
    }
   ],
   "source": [
    "class Person:# create a class for Person\n",
    "    def __init__(self, First, Last, ID): \n",
    "# Person will be composed of the properties first name, last name, and ID number\n",
    "        self.First = First\n",
    "        self.Last = Last\n",
    "        self.ID = ID\n",
    "    def printPerson(self):\n",
    "#we will print the infromation that the user has provided for Person\n",
    "        print('\\033[1m'+\"First Name:\"+'\\033[0m', self.First)\n",
    "        print ('\\033[1m'+\"Last Name:\"+'\\033[0m', self.Last)\n",
    "        print('\\033[1m'+\"ID:\"+'\\033[0m', self.ID)\n",
    "\n",
    "class Student(Person):# create a class for Student, which will inherit the properties of Person\n",
    "    def __init__(self, First, Last, ID, Scores):\n",
    "        Person.__init__(self, First, Last, ID)\n",
    "        self.Scores = Scores #the fourth parameter, scores, is added\n",
    "\n",
    "    def calculate(self):\n",
    "# define how the grade average will be calculated \n",
    "# use the grade character representative provided to return the appropiate overall letter grade to the user\n",
    "        Avg = sum(Scores) / len(Scores)\n",
    "        if 90 <= Avg <= 100:\n",
    "            return \"an A.\"\n",
    "        elif 80 <= Avg < 90:\n",
    "            return \"a B.\"\n",
    "        elif 70 <= Avg < 80:\n",
    "            return \"a C.\"\n",
    "        elif 60 <= Avg < 70:\n",
    "            return \"a D.\"\n",
    "        elif Avg < 60:\n",
    "            return \"an F.\"\n",
    "\n",
    "line = input(\"Enter first, last name and ID: \").split()\n",
    "First = line[0]\n",
    "Last = line[1]\n",
    "ID = line[2]\n",
    "# this will give us the Person information needed from the user\n",
    "# it will split it into the appropiate properties\n",
    "Scores = list( map(int, input(\"Enter grades separated by space: \").split()))\n",
    "# the user will then provide the interger list of grades as a space seperated list\n",
    "Info = Student(First, Last, ID, Scores)\n",
    "Info.printPerson()\n",
    "print('\\033[1m'+ \"Grade:\"+'\\033[0m',\"You got\", Info.calculate())\n",
    "# finallt, we are able to print a meassage to the user with their calculated grade \n",
    "# this can be done thanks to the Person and Student class created previously"
   ]
  }
 ],
 "metadata": {
  "kernelspec": {
   "display_name": "Python 3 (ipykernel)",
   "language": "python",
   "name": "python3"
  },
  "language_info": {
   "codemirror_mode": {
    "name": "ipython",
    "version": 3
   },
   "file_extension": ".py",
   "mimetype": "text/x-python",
   "name": "python",
   "nbconvert_exporter": "python",
   "pygments_lexer": "ipython3",
   "version": "3.9.13"
  }
 },
 "nbformat": 4,
 "nbformat_minor": 5
}
